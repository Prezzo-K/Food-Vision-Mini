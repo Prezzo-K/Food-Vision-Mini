{
  "nbformat": 4,
  "nbformat_minor": 0,
  "metadata": {
    "colab": {
      "provenance": [],
      "gpuType": "T4",
      "authorship_tag": "ABX9TyM+exe+cb9uYFbqft+G56wz",
      "include_colab_link": true
    },
    "kernelspec": {
      "name": "python3",
      "display_name": "Python 3"
    },
    "language_info": {
      "name": "python"
    },
    "accelerator": "GPU"
  },
  "cells": [
    {
      "cell_type": "markdown",
      "metadata": {
        "id": "view-in-github",
        "colab_type": "text"
      },
      "source": [
        "<a href=\"https://colab.research.google.com/github/Prezzo-K/Food-Vision-Mini/blob/main/Exercise_00.ipynb\" target=\"_parent\"><img src=\"https://colab.research.google.com/assets/colab-badge.svg\" alt=\"Open In Colab\"/></a>"
      ]
    },
    {
      "cell_type": "markdown",
      "source": [
        "Documentation reading - A big part of deep learning (and learning to code in general) is getting familiar with the documentation of a certain framework you're using. We'll be using the PyTorch documentation a lot throughout the rest of this course. So I'd recommend spending 10-minutes reading the following (it's okay if you don't get some things for now, the focus is not yet full understanding, it's awareness). See the documentation on torch.Tensor and for torch.cuda."
      ],
      "metadata": {
        "id": "9LGpzfZbNmra"
      }
    },
    {
      "cell_type": "code",
      "execution_count": 1,
      "metadata": {
        "colab": {
          "base_uri": "https://localhost:8080/",
          "height": 35
        },
        "id": "Su8eGs7uHsdx",
        "outputId": "d418a355-c511-4ae7-e67c-fc024bc0f944"
      },
      "outputs": [
        {
          "output_type": "execute_result",
          "data": {
            "text/plain": [
              "'2.5.1+cu124'"
            ],
            "application/vnd.google.colaboratory.intrinsic+json": {
              "type": "string"
            }
          },
          "metadata": {},
          "execution_count": 1
        }
      ],
      "source": [
        "# import torch\n",
        "import torch\n",
        "\n",
        "torch.__version__"
      ]
    },
    {
      "cell_type": "markdown",
      "source": [
        "Create a random tensor with shape (7, 7)."
      ],
      "metadata": {
        "id": "s4IjlBHINw45"
      }
    },
    {
      "cell_type": "code",
      "source": [
        "random_tensor = torch.rand(size = (7, 7))\n",
        "random_tensor"
      ],
      "metadata": {
        "colab": {
          "base_uri": "https://localhost:8080/"
        },
        "id": "zQD1upibNtza",
        "outputId": "fdffbbbe-ed0f-4aec-ba0c-3f6d824c733e"
      },
      "execution_count": 2,
      "outputs": [
        {
          "output_type": "execute_result",
          "data": {
            "text/plain": [
              "tensor([[0.2498, 0.5665, 0.0111, 0.7020, 0.2586, 0.9197, 0.4162],\n",
              "        [0.8078, 0.5821, 0.7295, 0.6849, 0.1043, 0.4426, 0.8953],\n",
              "        [0.6801, 0.7720, 0.8665, 0.4354, 0.6101, 0.4495, 0.8156],\n",
              "        [0.1450, 0.3263, 0.6352, 0.8477, 0.2994, 0.6920, 0.7191],\n",
              "        [0.9767, 0.1375, 0.4284, 0.8058, 0.7072, 0.6193, 0.4396],\n",
              "        [0.8405, 0.6677, 0.4398, 0.6636, 0.8359, 0.9056, 0.9181],\n",
              "        [0.7080, 0.8556, 0.5804, 0.6710, 0.8114, 0.9000, 0.0332]])"
            ]
          },
          "metadata": {},
          "execution_count": 2
        }
      ]
    },
    {
      "cell_type": "markdown",
      "source": [
        "Perform a matrix multiplication on the tensor from 2 with another random tensor with shape (1, 7) (hint: you may have to transpose the second tensor)."
      ],
      "metadata": {
        "id": "LcPwu0MmOKKx"
      }
    },
    {
      "cell_type": "code",
      "source": [
        "another_ranodm_tensor = torch.rand(size = (1,7))\n",
        "torch.matmul(random_tensor, another_ranodm_tensor.T) # (7 x 7) x (7 x 1) = 7 x 1"
      ],
      "metadata": {
        "colab": {
          "base_uri": "https://localhost:8080/"
        },
        "id": "CPHhlaYHN7xr",
        "outputId": "760751b1-27b1-49ba-cffe-79b0b666af21"
      },
      "execution_count": 3,
      "outputs": [
        {
          "output_type": "execute_result",
          "data": {
            "text/plain": [
              "tensor([[1.6543],\n",
              "        [2.6733],\n",
              "        [2.5607],\n",
              "        [2.1483],\n",
              "        [2.4859],\n",
              "        [2.8767],\n",
              "        [2.2706]])"
            ]
          },
          "metadata": {},
          "execution_count": 3
        }
      ]
    },
    {
      "cell_type": "markdown",
      "source": [
        "Set the random seed to 0 and do exercises 2 & 3 over again."
      ],
      "metadata": {
        "id": "uGZI0BEMOKkQ"
      }
    },
    {
      "cell_type": "code",
      "source": [
        "torch.manual_seed(1234)\n",
        "torch.cuda.manual_seed(1234)\n",
        "\n",
        "X = torch.rand(size = (7, 7))\n",
        "print(X)\n",
        "Y = torch.rand(size = (1, 7))\n",
        "print(Y)\n",
        "torch.matmul(X, Y.T)"
      ],
      "metadata": {
        "colab": {
          "base_uri": "https://localhost:8080/"
        },
        "id": "QXBw4r1BO_Mh",
        "outputId": "c25b2396-9590-4fa5-b113-f84a63207e5a"
      },
      "execution_count": 4,
      "outputs": [
        {
          "output_type": "stream",
          "name": "stdout",
          "text": [
            "tensor([[0.0290, 0.4019, 0.2598, 0.3666, 0.0583, 0.7006, 0.0518],\n",
            "        [0.4681, 0.6738, 0.3315, 0.7837, 0.5631, 0.7749, 0.8208],\n",
            "        [0.2793, 0.6817, 0.2837, 0.6567, 0.2388, 0.7313, 0.6012],\n",
            "        [0.3043, 0.2548, 0.6294, 0.9665, 0.7399, 0.4517, 0.4757],\n",
            "        [0.7842, 0.1525, 0.6662, 0.3343, 0.7893, 0.3216, 0.5247],\n",
            "        [0.6688, 0.8436, 0.4265, 0.9561, 0.0770, 0.4108, 0.0014],\n",
            "        [0.5414, 0.6419, 0.2976, 0.7077, 0.4189, 0.0655, 0.8839]])\n",
            "tensor([[0.8083, 0.7528, 0.8988, 0.6839, 0.7658, 0.9149, 0.3993]])\n"
          ]
        },
        {
          "output_type": "execute_result",
          "data": {
            "text/plain": [
              "tensor([[1.5166],\n",
              "        [3.1874],\n",
              "        [2.5350],\n",
              "        [2.8343],\n",
              "        [2.6844],\n",
              "        [2.6483],\n",
              "        [2.4059]])"
            ]
          },
          "metadata": {},
          "execution_count": 4
        }
      ]
    },
    {
      "cell_type": "markdown",
      "source": [
        "Create two random tensors of shape (2, 3) and send them both to the GPU (you'll need access to a GPU for this). Set torch.manual_seed(1234) when creating the tensors (this doesn't have to be the GPU random seed)."
      ],
      "metadata": {
        "id": "oSjaFCK9P6iy"
      }
    },
    {
      "cell_type": "code",
      "source": [
        "device = \"cuda\" if torch.cuda.is_available else \"cpu\"\n",
        "\n",
        "torch.manual_seed(1234)\n",
        "\n",
        "first_tensor = torch.rand(size = (2, 3)).to(device)\n",
        "second_tensor = torch.rand(size = (2, 3)).to(device)\n",
        "\n",
        "first_tensor, second_tensor"
      ],
      "metadata": {
        "colab": {
          "base_uri": "https://localhost:8080/"
        },
        "id": "0RdqoH9HPfQa",
        "outputId": "1e159d1e-0bd3-42a3-879f-4a60f6933c25"
      },
      "execution_count": 18,
      "outputs": [
        {
          "output_type": "execute_result",
          "data": {
            "text/plain": [
              "(tensor([[0.0290, 0.4019, 0.2598],\n",
              "         [0.3666, 0.0583, 0.7006]], device='cuda:0'),\n",
              " tensor([[0.0518, 0.4681, 0.6738],\n",
              "         [0.3315, 0.7837, 0.5631]], device='cuda:0'))"
            ]
          },
          "metadata": {},
          "execution_count": 18
        }
      ]
    },
    {
      "cell_type": "markdown",
      "source": [
        "Perform a matrix multiplication on the tensors you created in 6 (again, you may have to adjust the shapes of one of the tensors)."
      ],
      "metadata": {
        "id": "KWPmDL_dRFCm"
      }
    },
    {
      "cell_type": "code",
      "source": [
        "first_tensor.shape, second_tensor.shape\n",
        "\n",
        "out = torch.matmul(first_tensor, second_tensor.T)\n",
        "out"
      ],
      "metadata": {
        "colab": {
          "base_uri": "https://localhost:8080/"
        },
        "id": "27DzJCSeQ6tt",
        "outputId": "58f44ac1-d0a1-4c83-8ca4-da36e94e9d4f"
      },
      "execution_count": 24,
      "outputs": [
        {
          "output_type": "execute_result",
          "data": {
            "text/plain": [
              "tensor([[0.3647, 0.4709],\n",
              "        [0.5184, 0.5617]], device='cuda:0')"
            ]
          },
          "metadata": {},
          "execution_count": 24
        }
      ]
    },
    {
      "cell_type": "markdown",
      "source": [
        "Find the maximum and minimum values of the output of 7."
      ],
      "metadata": {
        "id": "oro4jhhSSE99"
      }
    },
    {
      "cell_type": "code",
      "source": [
        "out.max(), out.min()"
      ],
      "metadata": {
        "colab": {
          "base_uri": "https://localhost:8080/"
        },
        "id": "wRVtBOBRRLf3",
        "outputId": "ecdf9fe9-5c0b-4762-a4a9-c9b6c975c250"
      },
      "execution_count": 31,
      "outputs": [
        {
          "output_type": "execute_result",
          "data": {
            "text/plain": [
              "(tensor(0.5617, device='cuda:0'), tensor(0.3647, device='cuda:0'))"
            ]
          },
          "metadata": {},
          "execution_count": 31
        }
      ]
    },
    {
      "cell_type": "markdown",
      "source": [
        "Find the maximum and minimum index values of the output of 7."
      ],
      "metadata": {
        "id": "Rj-JKMGhTb7X"
      }
    },
    {
      "cell_type": "code",
      "source": [
        "out.argmax(dim = 0), out.argmin(dim = 1)"
      ],
      "metadata": {
        "colab": {
          "base_uri": "https://localhost:8080/"
        },
        "id": "tVmvDNeoSKQf",
        "outputId": "201ef23f-f887-4583-cc56-8e543be8fd22"
      },
      "execution_count": 34,
      "outputs": [
        {
          "output_type": "execute_result",
          "data": {
            "text/plain": [
              "(tensor([1, 1], device='cuda:0'), tensor([0, 0], device='cuda:0'))"
            ]
          },
          "metadata": {},
          "execution_count": 34
        }
      ]
    },
    {
      "cell_type": "markdown",
      "source": [
        "Make a random tensor with shape (1, 1, 1, 10) and then create a new tensor with all the 1 dimensions removed to be left with a tensor of shape (10). Set the seed to 7 when you create it and print out the first tensor and it's shape as well as the second tensor and it's shape."
      ],
      "metadata": {
        "id": "UMSM3v5rTlof"
      }
    },
    {
      "cell_type": "code",
      "source": [
        "random_T = torch.rand(size = (1, 1, 1, 10))\n",
        "print(random_T)\n",
        "\n",
        "new_T = random_T.squeeze()\n",
        "print(new_T)\n",
        "\n",
        "torch.manual_seed(7)\n",
        "\n",
        "random_T.shape, new_T.shape"
      ],
      "metadata": {
        "colab": {
          "base_uri": "https://localhost:8080/"
        },
        "id": "Vo491JGjTme9",
        "outputId": "ccf7a361-2585-4276-aa8a-6fdccd35d728"
      },
      "execution_count": 40,
      "outputs": [
        {
          "output_type": "stream",
          "name": "stdout",
          "text": [
            "tensor([[[[0.5349, 0.1988, 0.6592, 0.6569, 0.2328, 0.4251, 0.2071, 0.6297,\n",
            "           0.3653, 0.8513]]]])\n",
            "tensor([0.5349, 0.1988, 0.6592, 0.6569, 0.2328, 0.4251, 0.2071, 0.6297, 0.3653,\n",
            "        0.8513])\n"
          ]
        },
        {
          "output_type": "execute_result",
          "data": {
            "text/plain": [
              "(torch.Size([1, 1, 1, 10]), torch.Size([10]))"
            ]
          },
          "metadata": {},
          "execution_count": 40
        }
      ]
    },
    {
      "cell_type": "code",
      "source": [],
      "metadata": {
        "id": "GpnkiQRpT0Jn"
      },
      "execution_count": null,
      "outputs": []
    }
  ]
}